{
 "cells": [
  {
   "cell_type": "code",
   "execution_count": null,
   "metadata": {
    "collapsed": true
   },
   "outputs": [],
   "source": []
  },
  {
   "cell_type": "markdown",
   "metadata": {},
   "source": [
    "# ** Data Wrangling with MongoDB**#\n",
    "###### by Rajeswari Shanmugam"
   ]
  },
  {
   "cell_type": "code",
   "execution_count": null,
   "metadata": {
    "collapsed": true
   },
   "outputs": [],
   "source": []
  },
  {
   "cell_type": "code",
   "execution_count": null,
   "metadata": {
    "collapsed": true
   },
   "outputs": [],
   "source": []
  },
  {
   "cell_type": "markdown",
   "metadata": {},
   "source": [
    "## Project Summary <a name=\"top\"></a>\n",
    "Name: Rajeswari Shanmugam\n",
    "\n",
    "**Map area:**\n",
    "+ Location: Chennai, South India\n",
    "- <a href=http://wiki.openstreetmap.org/wiki/Chennai>Open Street Map of Chennai</a> \n",
    "http://www.openstreetmap.org/#map=13/13.0900/80.2700\n",
    "\n",
    "Objective: Audit, clean the OSM dataset, convert from XML to JSON format and analyze insight within the data.\n"
   ]
  },
  {
   "cell_type": "markdown",
   "metadata": {},
   "source": [
    "<hr>"
   ]
  },
  {
   "cell_type": "markdown",
   "metadata": {},
   "source": [
    "<h2><a name=\"audit\"></a> **1. Data Audit**</h2>"
   ]
  },
  {
   "cell_type": "code",
   "execution_count": 48,
   "metadata": {
    "collapsed": true
   },
   "outputs": [],
   "source": [
    "import xml.etree.cElementTree as ET\n",
    "import pprint\n",
    "import re\n",
    "import codecs\n",
    "import json\n",
    "import collections\n",
    "import pymongo"
   ]
  },
  {
   "cell_type": "code",
   "execution_count": 49,
   "metadata": {},
   "outputs": [],
   "source": [
    "import os\n",
    "chennai_data = \"C:\\\\temp\\\\python\\\\chennai.osm\""
   ]
  },
  {
   "cell_type": "markdown",
   "metadata": {},
   "source": [
    "> I parse Chennai OSM dataset downloaded to my temp directory on computer  with ElementTree and count the number of unique element types to get an overall understanding of the data by using count_tags function."
   ]
  },
  {
   "cell_type": "code",
   "execution_count": 55,
   "metadata": {},
   "outputs": [
    {
     "name": "stdout",
     "output_type": "stream",
     "text": [
      "{'bounds': 1,\n",
      " 'member': 864,\n",
      " 'nd': 525604,\n",
      " 'node': 424009,\n",
      " 'osm': 1,\n",
      " 'relation': 291,\n",
      " 'tag': 115707,\n",
      " 'way': 96484}\n"
     ]
    }
   ],
   "source": [
    "#Parse through the file with ElementTree and count the number of unique element types to understand overall structure.\n",
    "def count_tags(filename):\n",
    "        tags = {}\n",
    "        for event, elem in ET.iterparse(filename):\n",
    "            if elem.tag in tags: \n",
    "                tags[elem.tag] += 1\n",
    "            else:\n",
    "                tags[elem.tag] = 1\n",
    "        return tags\n",
    "chennai_tags = count_tags(chennai_data)\n",
    "pprint.pprint(chennai_tags)"
   ]
  },
  {
   "cell_type": "markdown",
   "metadata": {},
   "source": [
    "> For the following function: key_type & process_map. We check the \"k\"\n",
    "value for each \"<tag>\" and see if they can be valid keys as well as see if there are any other potential problems.\n",
    "As we saw in the quiz earlier, we would like to change the data\n",
    "model and expand the \"addr:street\" type of keys to a dictionary like this:\n",
    "{\"address\": {\"street\": \"Some value\"}}\n",
    "So, we have to see if we have such tags, and if we have any tags with\n",
    "problematic characters.\n",
    "\n",
    "> For the function 'key_type', we have a count of each of\n",
    "three tag categories in a dictionary:\n",
    "  \"lower\", for tags that contain only lowercase letters and are valid,\n",
    "  \"lower_colon\", for otherwise valid tags with a colon in their names,\n",
    "  \"problemchars\", for tags with problematic characters, and so on.\n"
   ]
  },
  {
   "cell_type": "code",
   "execution_count": 58,
   "metadata": {
    "scrolled": false
   },
   "outputs": [
    {
     "name": "stdout",
     "output_type": "stream",
     "text": [
      "{'lower': 112471, 'lower_colon': 2818, 'other': 417, 'problemchars': 1}\n"
     ]
    }
   ],
   "source": [
    "import re\n",
    "\n",
    "lower = re.compile(r'^([a-z]|_)*$')\n",
    "lower_colon = re.compile(r'^([a-z]|_)*:([a-z]|_)*$')\n",
    "problemchars = re.compile(r'[=\\+/&<>;\\'\"\\?%#$@\\,\\. \\t\\r\\n]')\n",
    "\n",
    "\n",
    "def key_type(element, keys):\n",
    "    if element.tag == \"tag\":\n",
    "        for tag in element.iter('tag'):\n",
    "            k = tag.get('k')\n",
    "            if lower.search(k):\n",
    "                keys['lower'] += 1\n",
    "            elif lower_colon.search(k):\n",
    "                keys['lower_colon'] += 1\n",
    "            elif problemchars.search(k):\n",
    "                keys['problemchars'] += 1\n",
    "            else:\n",
    "                keys['other'] += 1\n",
    "    return keys\n",
    "\n",
    "\n",
    "def process_map(filename):\n",
    "    keys = {\"lower\": 0, \"lower_colon\": 0, \"problemchars\": 0, \"other\": 0}\n",
    "    for _, element in ET.iterparse(filename):\n",
    "        keys = key_type(element, keys)\n",
    "\n",
    "    return keys\n",
    "\n",
    "chennai_keys = process_map(chennai_data)\n",
    "pprint.pprint(chennai_keys)"
   ]
  },
  {
   "cell_type": "markdown",
   "metadata": {},
   "source": [
    "> Below we check the file for the list of Unique user count who have contributed to this map online. We see 569 unique users have contributed to this map.\n",
    "\n"
   ]
  },
  {
   "cell_type": "code",
   "execution_count": 59,
   "metadata": {},
   "outputs": [
    {
     "data": {
      "text/plain": [
       "569"
      ]
     },
     "execution_count": 59,
     "metadata": {},
     "output_type": "execute_result"
    }
   ],
   "source": [
    "#people invovlved in the map editing.\n",
    "def process_map(filename):\n",
    "    users = set()\n",
    "    for _, element in ET.iterparse(filename):\n",
    "        for e in element:\n",
    "            if 'uid' in e.attrib:\n",
    "                users.add(e.attrib['uid'])\n",
    "    return users\n",
    "users = process_map(chennai_data)\n",
    "len(users)"
   ]
  },
  {
   "cell_type": "markdown",
   "metadata": {},
   "source": [
    "<hr>"
   ]
  },
  {
   "cell_type": "markdown",
   "metadata": {},
   "source": [
    "[<div align=\"center\">Back to top</div>](#top)"
   ]
  },
  {
   "cell_type": "markdown",
   "metadata": {},
   "source": [
    "<h2><a name=\"problems\"></a> **2. Problem encountered**</h2>"
   ]
  },
  {
   "cell_type": "markdown",
   "metadata": {},
   "source": [
    "<h3><a name=\"street\"></a> **2.1 Street address abbreviation **</h3>"
   ]
  },
  {
   "cell_type": "markdown",
   "metadata": {},
   "source": [
    ">  The main problem we encountered in this dataset come from the street name abbreviation inconsistency. In this following code, we build the regex matching the last element in the string, where usually the street type is based. Then we come up with a list of mapping that need not to be cleaned. For example in Chennai many streets are named Salai in the native language meaning Road. We find occurances of these native terms and convert them to meaningful interpretations.  "
   ]
  },
  {
   "cell_type": "code",
   "execution_count": 60,
   "metadata": {
    "collapsed": true
   },
   "outputs": [],
   "source": [
    "from collections import defaultdict\n",
    "\n",
    "street_type_re = re.compile(r'\\b\\S+\\.?$', re.IGNORECASE)\n",
    "\n",
    "expected = [\"Avenue\", \"Boulevard\", \"Commons\", \"Court\", \"Drive\", \"Lane\", \"Parkway\", \n",
    "                         \"Place\", \"Road\", \"Square\", \"Street\", \"Trail\"]\n",
    "\n",
    "mapping = {'Ave'  : 'Avenue',\n",
    "           'Blvd' : 'Boulevard',\n",
    "           'Dr'   : 'Drive',\n",
    "           'Ln'   : 'Lane',\n",
    "           'Pkwy' : 'Parkway',\n",
    "           'Rd'   : 'Road',\n",
    "           'Rd.'   : 'Road',\n",
    "           'St'   : 'Street',\n",
    "           'st'   : 'Street',\n",
    "           'street' :\"Street\",\n",
    "           'Salai': 'Road',\n",
    "           'salai': 'Road',\n",
    "           'Ct'   : \"Court\",\n",
    "           'Cir'  : \"Circle\",\n",
    "           'Cr'   : \"Court\",\n",
    "           'ave'  : 'Avenue',\n",
    "           'Hwg'  : 'Highway',\n",
    "           'Hwy'  : 'Highway',\n",
    "           'Sq'   : \"Square\"}\n",
    "\n"
   ]
  },
  {
   "cell_type": "markdown",
   "metadata": {},
   "source": [
    "> + audit_street_type function will search the input string for the regex. If there is a match and it is not within the \"expected\" list, add the match as a key and add the string to the set.\n",
    "+ is_street_name function looks at the attribute k if k=\"address:street\" \n",
    "+ audit function will return the list that match previous two functions. After that, we would do a pretty print the output of the audit. With the list of all the abbreviated street types we can understand and fill-up our \"mapping\" dictionary as a preparation to convert these street name into meaningful form.\n"
   ]
  },
  {
   "cell_type": "code",
   "execution_count": 63,
   "metadata": {
    "collapsed": true
   },
   "outputs": [],
   "source": [
    "def audit_street_type(street_types, street_name):\n",
    "    m = street_type_re.search(street_name)\n",
    "    if m:\n",
    "        street_type = m.group()\n",
    "        if street_type not in expected:\n",
    "            street_types[street_type].add(street_name)\n",
    "\n",
    "def is_street_name(elem):\n",
    "    return (elem.attrib['k'] == \"addr:street\")\n",
    "\n",
    "def audit(osmfile):\n",
    "    osm_file = open(osmfile, \"r\",encoding=\"utf8\")\n",
    "    street_types = defaultdict(set)\n",
    "    for event, elem in ET.iterparse(osm_file, events=(\"start\",)):\n",
    "\n",
    "        if elem.tag == \"node\" or elem.tag == \"way\":\n",
    "            for tag in elem.iter(\"tag\"):\n",
    "                if is_street_name(tag):\n",
    "                    audit_street_type(street_types, tag.attrib['v'])\n",
    "\n",
    "    return street_types\n"
   ]
  },
  {
   "cell_type": "code",
   "execution_count": 64,
   "metadata": {
    "collapsed": true
   },
   "outputs": [],
   "source": [
    "chennai_street_types = audit(chennai_data)"
   ]
  },
  {
   "cell_type": "markdown",
   "metadata": {},
   "source": [
    "> We then take a brief look at the unclean street name using pretty print below "
   ]
  },
  {
   "cell_type": "code",
   "execution_count": 65,
   "metadata": {
    "scrolled": true
   },
   "outputs": [
    {
     "name": "stdout",
     "output_type": "stream",
     "text": [
      "{'600042': {'Baby Nagar, Velachery, Chennai, Tamil Nadu 600042'},\n",
      " 'Adambakkam': {'City Link Road, N.G.O. Colony, Ganesh Nagar, Adambakkam'},\n",
      " 'Adyar': {'11th Cross Street, Shastri Nagar, Adyar',\n",
      "           '1st Canal Cross Road, Gandhi Nagar, Adyar, Gandhi Nagar, Adyar',\n",
      "           '2nd Avenue, Indira Nagar, Adyar',\n",
      "           '2nd Avenue, Indira Nagar, Adyar, Chennai - 600, 020, Indira Nagar, '\n",
      "           'Adyar',\n",
      "           '4th Main Road, Gandhi Nagar, Adyar',\n",
      "           'Gandhi Mandapam, Sardar Patel Road, Adyar',\n",
      "           'Indira Nagar 1st Main Rd, Indira Nagar, Adyar',\n",
      "           'Mahatma Gandhi Rd, Subramaniam Colony, Adyar'},\n",
      " 'Adyar,': {'4th Main Road, Kasthuriba Nagar, Adyar, Kasturba Nagar, Adyar,'},\n",
      " 'Alwarpet': {'Alwarpet', 'Kavingar Barathidasan Road, Alwarpet'},\n",
      " 'Ave': {'14th Ave',\n",
      "         '8th Ave',\n",
      "         'Alumni Ave',\n",
      "         'Hostel Ave',\n",
      "         'Indira Nagar 1st Ave'},\n",
      " 'Bridge': {'Maduvankarai Bridge'},\n",
      " 'Chennai': {'3rd St, Ragavan Colony, Mettuppalayam, Ashok Nagar, Chennai',\n",
      "             'Balu St, Kamaraj Nagar, Thiruvanmiyur, Chennai',\n",
      "             'Gandhi Nagar, MGR Nagar, Venkateswara Nagar, Velachery, Chennai',\n",
      "             'Vandikaran St, Kuilkuppam, Velachery, Chennai',\n",
      "             'Velachery Road, Velachery, Chennai'},\n",
      " 'Colony': {'Nathan Subramaniam Colony'},\n",
      " 'East': {'Canal Bank Road, CIT Nagar East'},\n",
      " 'Ekkatuthangal': {'Jawaharlal Nehru Rd, Balaji Nagar, Ekkatuthangal'},\n",
      " 'Extension': {'Kamatchipuram 2nd Street Extension'},\n",
      " 'Extn': {'6th Main Road Ram Nagar (N) Extn'},\n",
      " 'Extn.': {'Umapathy street Extn.'},\n",
      " 'Guindy': {'Defence Officers Colony Nandambakkam Extension Guindy',\n",
      "            'Five furlong road, Maduvankarai, Guindy',\n",
      "            'Parthasarathy St, Arulayiammanpet, Thiru Vi Ka Industrial Estate, '\n",
      "            'Guindy',\n",
      "            'Sardar Patel Rd, Little Mount, Guindy',\n",
      "            'Sengani Amman Koil St, Mosque Colony, Maduvinkarai, Guindy'},\n",
      " 'Highway': {'Mount Poonamallee Highway'},\n",
      " 'J.N.ROAD': {'J.N.ROAD'},\n",
      " 'Jafferkhanpet': {'Third Street, Raghavan Colony, Jafferkhanpet'},\n",
      " 'Kotturpuram': {'New Street, Kotturpuram'},\n",
      " 'Madipakkam': {'5th Cross Street, Govindsamay Nagar, Madipakkam'},\n",
      " 'Mambalam': {'Bakthavachalam Street, West Mambalam',\n",
      "              'Nakkeeran St #8, West Mambalam',\n",
      "              'New Street, West Mambalam'},\n",
      " 'Meenambakkam': {'Meenambakkam'},\n",
      " 'Mount': {'St. Thomas Mount'},\n",
      " 'Mugalivakkam': {'Mugalivakkam'},\n",
      " 'Mylapore': {'Warren Road, Mylapore'},\n",
      " 'Nadu': {'Kalakshetra Rd, Valluvar Nagar, Thiruvanmiyur, Chennai, Tamil Nadu'},\n",
      " 'Nagar': {'11th Avenue, Ashok Nagar',\n",
      "           '46th Street, Lakshmi Nagar',\n",
      "           '92nd St, 18th avenue, Ashok Nagar',\n",
      "           'Dr.Seetharaman Nagar',\n",
      "           'Jawaharlal Nehru Street, Ashok Nagar',\n",
      "           'K.P.K. Salai, Kanaga Durgai Nagar',\n",
      "           'Mathias Nagar',\n",
      "           'Sivagnanam Street, T Nagar',\n",
      "           'Veerappa Nagar',\n",
      "           'opp. Hotel Saravana Bhavan,Anna Main Road, K K Nagar'},\n",
      " 'Nandambakkam': {'Karumariamman Koil St, Poonthottam Colony, Nandambakkam'},\n",
      " 'Nandanam': {'Turnbulls Road, Nandanam'},\n",
      " 'Nanganallur': {'4th Main Road, Nanganallur',\n",
      "                 '6th Main Road, Nanganallur',\n",
      "                 'Nanganallur'},\n",
      " 'Nesapakkam': {'Govindasami St, MGR Nagar, Nesapakkam'},\n",
      " 'PERUNGUDI': {'PERUNGUDI'},\n",
      " 'Park': {'Panagal Park'},\n",
      " 'Pudur)': {'3rd Avenue, Ashok Nagar (Pudur)'},\n",
      " 'Puzhithivakkam': {'10th street Ram nagar north extn, Puzhithivakkam'},\n",
      " 'Puzhuthivakkam': {'10th Street, Ram  Nagar, Puzhuthivakkam'},\n",
      " 'Ramapuram': {'Thiruvalluvar Salai, Ramapuram'},\n",
      " 'Rd': {'80 Feet Rd',\n",
      "        'Arcot Rd',\n",
      "        'Arya Gowda Rd',\n",
      "        'Jawaharlal Nehru Rd',\n",
      "        'Kalakshethra Rd',\n",
      "        'Kasturibai Nagar 1st Main Rd',\n",
      "        'Kodambakkam Rd',\n",
      "        'LIC Colony Main Rd',\n",
      "        'Mahatma Gandhi Rd',\n",
      "        'Ramapuram Main Rd',\n",
      "        'Rangarajapuram Main Rd',\n",
      "        'Thanikachalam Rd',\n",
      "        'Valluvar Rd',\n",
      "        'Viswanathapuram Main Rd'},\n",
      " 'Road)': {'Anna Salai (Mount Road)',\n",
      "           'Jawaharlal Nehru Road (100 Feet Road)',\n",
      "           'Pasumpon Muthuramalingar Thevar Salai (Chamiers Road)'},\n",
      " 'Road,Periyapet,': {'suyavar veedhi, ,East Jones Road,Periyapet,'},\n",
      " 'SALAI': {'THIRUVALLUVAR SALAI'},\n",
      " 'SH49': {'East Coast Road SH49'},\n",
      " 'ST': {'MANICKKAM ST'},\n",
      " 'STREET': {'DHATIRATNAM STREET', 'MANICKKAM STREET'},\n",
      " 'Saidapet': {'Anjaneya Temple Street, Saidapet',\n",
      "              'Anna Salai, Saidapet',\n",
      "              'E Block, Venkatapuram, Saidapet',\n",
      "              'Nagapattinam-Chennai Highway, NGR Colony, Gotha Medu Housing '\n",
      "              'Board, Saidapet, NGR Colony, Gotha Medu Housing Board, West '\n",
      "              'Saidapet',\n",
      "              'PWD Govt. Staff Qtrs, Todd Hunter Nagar, Saidapet',\n",
      "              'West Jones Road, Saidapet'},\n",
      " 'Salai': {'Anna Salai',\n",
      "           'Doctor Radhakrishnan Salai',\n",
      "           'Dr Muthulakshmi Salai',\n",
      "           'Erikarai Salai',\n",
      "           'Justice Ramakrishna Salai',\n",
      "           'Kamarajar Salai',\n",
      "           'Munusamy Salai',\n",
      "           'Pasumpon Muthuramalingar Thever Salai',\n",
      "           'Ponnambalam Salai',\n",
      "           'Rajiv Gandhi Salai',\n",
      "           'valluvar Salai'},\n",
      " 'St': {'12th St',\n",
      "        '16th Cross St',\n",
      "        '46th St',\n",
      "        '53rd St',\n",
      "        '54th St',\n",
      "        'Abusali St',\n",
      "        'Chakrapani St',\n",
      "        'Jayaram St',\n",
      "        'Rengabashyam St',\n",
      "        'Shastri Nagar 1st Cross St',\n",
      "        'Venu Reddy St',\n",
      "        'brindavan St'},\n",
      " 'St.': {'Deena Dyalu St.', 'Sivagnanam St.'},\n",
      " 'Stage': {'6th cross ,29th main, BTM Layout 2nd Stage'},\n",
      " 'T-Nagar': {'North Boag Road, T-Nagar'},\n",
      " 'Taramani': {'100 Feet Road, Taramani',\n",
      "              '2nd Main Road, Taramani',\n",
      "              'Kanagam road, Taramani',\n",
      "              'Taramani'},\n",
      " 'Teynampet': {'Muthaiyah Street, Vellala Teynampet'},\n",
      " 'Thiruvanmiyu': {'Anand Apartments, 50, Dr Muthu Lakshmi Rd, L.I.C Colony, '\n",
      "                  'Thiruvanmiyu'},\n",
      " 'Thiruvanmiyur': {'48th Cross St Valmiki Nagar, Thiruvalluvar Nagar, '\n",
      "                   'Thiruvanmiyur',\n",
      "                   'Dr.VSI Estate, Thiruvanmiyur'},\n",
      " 'Tiruvanmiyur': {'East Coast Road, Tiruvanmiyur'},\n",
      " 'University': {'Thamarai Hostel , Anna University'},\n",
      " 'Vadapalani': {'Police Quarters (Inspectors, Sub-inspectors), South Sivan '\n",
      "                'Koil Street, Vadapalani'},\n",
      " 'Valasaravakkam': {'Arcot Road, Valasaravakkam'},\n",
      " 'Velachery': {'7th Avenue, Thandeeswaram Nagar, Velachery',\n",
      "               'Velachery',\n",
      "               'Vijaya Nagar 3rd Cross Street, Velachery'},\n",
      " 'Velachery,': {\"4th Main Road, Chokkalingam Nagar, AG'S Colony, Velachery, \"\n",
      "                'MGR Nagar, Venkateswara Nagar, Velachery,'},\n",
      " 'Village': {'Dr.Seetharaman Nagar,Velacherry Village'},\n",
      " 'West': {'Brindavan Nagar, Velachery West'},\n",
      " 'as': {'as'},\n",
      " 'campus': {'sardar patel road anna university ceg campus'},\n",
      " 'colony': {'6th street,voltas colony'},\n",
      " 'mainroad': {'vijayanagar 3rd mainroad'},\n",
      " 'manapakkam': {'manapakkam'},\n",
      " 'manthagudipatty': {'manthagudipatty'},\n",
      " 'nagar': {'2nd main road, sadasivam nagar',\n",
      "           '7th Cross Street, Rajalaksmi nagar',\n",
      "           'I Avenue Indira nagar',\n",
      "           'Nehru nagar',\n",
      "           'sriram nagar'},\n",
      " 'quarters': {'Teynampet police quarters'},\n",
      " 'road': {'1st main road',\n",
      "          'Church road',\n",
      "          'Gulmohar Avenue, velachery main road',\n",
      "          'South boag road',\n",
      "          'dandeeswaram main road',\n",
      "          'mahalakshmi nagar 3rd main road',\n",
      "          'sardar patel road'},\n",
      " 'road)': {'Maharajapuram Santhanam Salai (Griffith road)'},\n",
      " 'sou': {'sou'},\n",
      " 'st': {'sivaraman st', 'kalasathamman koil st', 'Babu rajendra prasath st'},\n",
      " 'street': {'2nd street',\n",
      "            '3rd cross street',\n",
      "            'Balakrishnapuram 6th street',\n",
      "            'Bazzar street',\n",
      "            'Brahmin street',\n",
      "            'Vadhyar Subbraya mudali street',\n",
      "            'fourth cross street',\n",
      "            'kalasathamman koil street',\n",
      "            'kannnapiran street',\n",
      "            'vaithiyanathan street'}}\n"
     ]
    }
   ],
   "source": [
    "pprint.pprint(dict(chennai_street_types))"
   ]
  },
  {
   "cell_type": "markdown",
   "metadata": {},
   "source": [
    "> This last function update_name is the last step of the process, which take the old name and update them with a better name"
   ]
  },
  {
   "cell_type": "code",
   "execution_count": 66,
   "metadata": {
    "scrolled": true
   },
   "outputs": [
    {
     "name": "stdout",
     "output_type": "stream",
     "text": [
      "Mahatma Gandhi Rd => Mahatma Gandhi Road\n",
      "Ramapuram Main Rd => Ramapuram Main Road\n",
      "Kasturibai Nagar 1st Main Rd => Kasturibai Nagar 1st Main Road\n",
      "Kodambakkam Rd => Kodambakkam Road\n",
      "80 Feet Rd => 80 Feet Road\n",
      "Valluvar Rd => Valluvar Road\n",
      "Rangarajapuram Main Rd => Rangarajapuram Main Road\n",
      "Thanikachalam Rd => Thanikachalam Road\n",
      "Arya Gowda Rd => Arya Gowda Road\n",
      "Kalakshethra Rd => Kalakshethra Road\n",
      "LIC Colony Main Rd => LIC Colony Main Road\n",
      "Arcot Rd => Arcot Road\n",
      "Jawaharlal Nehru Rd => Jawaharlal Nehru Road\n",
      "Viswanathapuram Main Rd => Viswanathapuram Main Road\n",
      "sivaraman st => sivaraman Street\n",
      "kalasathamman koil st => kalasathamman koil Street\n",
      "Babu rajendra prasath st => Babu rajendra prasath Street\n",
      "Parthasarathy St, Arulayiammanpet, Thiru Vi Ka Industrial Estate, Guindy => Parthasarathy St, Arulayiammanpet, Thiru Vi Ka Industrial Estate, Guindy\n",
      "Defence Officers Colony Nandambakkam Extension Guindy => Defence Officers Colony Nandambakkam Extension Guindy\n",
      "Five furlong road, Maduvankarai, Guindy => Five furlong road, Maduvankarai, Guindy\n",
      "Sengani Amman Koil St, Mosque Colony, Maduvinkarai, Guindy => Sengani Amman Koil St, Mosque Colony, Maduvinkarai, Guindy\n",
      "Sardar Patel Rd, Little Mount, Guindy => Sardar Patel Rd, Little Mount, Guindy\n",
      "PERUNGUDI => PERUNGUDI\n",
      "46th Street, Lakshmi Nagar => 46th Street, Lakshmi Nagar\n",
      "92nd St, 18th avenue, Ashok Nagar => 92nd St, 18th avenue, Ashok Nagar\n",
      "K.P.K. Salai, Kanaga Durgai Nagar => K.P.K. Salai, Kanaga Durgai Nagar\n",
      "Sivagnanam Street, T Nagar => Sivagnanam Street, T Nagar\n",
      "Dr.Seetharaman Nagar => Dr.Seetharaman Nagar\n",
      "Veerappa Nagar => Veerappa Nagar\n",
      "Jawaharlal Nehru Street, Ashok Nagar => Jawaharlal Nehru Street, Ashok Nagar\n",
      "11th Avenue, Ashok Nagar => 11th Avenue, Ashok Nagar\n",
      "Mathias Nagar => Mathias Nagar\n",
      "opp. Hotel Saravana Bhavan,Anna Main Road, K K Nagar => opp. Hotel Saravana Bhavan,Anna Main Road, K K Nagar\n",
      "I Avenue Indira nagar => I Avenue Indira nagar\n",
      "2nd main road, sadasivam nagar => 2nd main road, sadasivam nagar\n",
      "sriram nagar => sriram nagar\n",
      "Nehru nagar => Nehru nagar\n",
      "7th Cross Street, Rajalaksmi nagar => 7th Cross Street, Rajalaksmi nagar\n",
      "Nagapattinam-Chennai Highway, NGR Colony, Gotha Medu Housing Board, Saidapet, NGR Colony, Gotha Medu Housing Board, West Saidapet => Nagapattinam-Chennai Highway, NGR Colony, Gotha Medu Housing Board, Saidapet, NGR Colony, Gotha Medu Housing Board, West Saidapet\n",
      "PWD Govt. Staff Qtrs, Todd Hunter Nagar, Saidapet => PWD Govt. Staff Qtrs, Todd Hunter Nagar, Saidapet\n",
      "Anjaneya Temple Street, Saidapet => Anjaneya Temple Street, Saidapet\n",
      "E Block, Venkatapuram, Saidapet => E Block, Venkatapuram, Saidapet\n",
      "West Jones Road, Saidapet => West Jones Road, Saidapet\n",
      "Anna Salai, Saidapet => Anna Salai, Saidapet\n",
      "Dr.Seetharaman Nagar,Velacherry Village => Dr.Seetharaman Nagar,Velacherry Village\n",
      "4th Main Road, Nanganallur => 4th Main Road, Nanganallur\n",
      "Nanganallur => Nanganallur\n",
      "6th Main Road, Nanganallur => 6th Main Road, Nanganallur\n",
      "Kamatchipuram 2nd Street Extension => Kamatchipuram 2nd Street Extension\n",
      "dandeeswaram main road => dandeeswaram main road\n",
      "sardar patel road => sardar patel road\n",
      "1st main road => 1st main road\n",
      "South boag road => South boag road\n",
      "Church road => Church road\n",
      "mahalakshmi nagar 3rd main road => mahalakshmi nagar 3rd main road\n",
      "Gulmohar Avenue, velachery main road => Gulmohar Avenue, velachery main road\n",
      "Taramani => Taramani\n",
      "100 Feet Road, Taramani => 100 Feet Road, Taramani\n",
      "2nd Main Road, Taramani => 2nd Main Road, Taramani\n",
      "Kanagam road, Taramani => Kanagam road, Taramani\n",
      "7th Avenue, Thandeeswaram Nagar, Velachery => 7th Avenue, Thandeeswaram Nagar, Velachery\n",
      "Vijaya Nagar 3rd Cross Street, Velachery => Vijaya Nagar 3rd Cross Street, Velachery\n",
      "Velachery => Velachery\n",
      "Meenambakkam => Meenambakkam\n",
      "Karumariamman Koil St, Poonthottam Colony, Nandambakkam => Karumariamman Koil St, Poonthottam Colony, Nandambakkam\n",
      "valluvar Salai => valluvar Road\n",
      "Rajiv Gandhi Salai => Rajiv Gandhi Road\n",
      "Anna Salai => Anna Road\n",
      "Doctor Radhakrishnan Salai => Doctor Radhakrishnan Road\n",
      "Justice Ramakrishna Salai => Justice Ramakrishna Road\n",
      "Dr Muthulakshmi Salai => Dr Muthulakshmi Road\n",
      "Munusamy Salai => Munusamy Road\n",
      "Pasumpon Muthuramalingar Thever Salai => Pasumpon Muthuramalingar Thever Road\n",
      "Kamarajar Salai => Kamarajar Road\n",
      "Ponnambalam Salai => Ponnambalam Road\n",
      "Erikarai Salai => Erikarai Road\n",
      "Alwarpet => Alwarpet\n",
      "Kavingar Barathidasan Road, Alwarpet => Kavingar Barathidasan Road, Alwarpet\n",
      "Anna Salai (Mount Road) => Anna Salai (Mount Road)\n",
      "Pasumpon Muthuramalingar Thevar Salai (Chamiers Road) => Pasumpon Muthuramalingar Thevar Salai (Chamiers Road)\n",
      "Jawaharlal Nehru Road (100 Feet Road) => Jawaharlal Nehru Road (100 Feet Road)\n",
      "Mount Poonamallee Highway => Mount Poonamallee Highway\n",
      "Mugalivakkam => Mugalivakkam\n",
      "Deena Dyalu St. => Deena Dyalu St.\n",
      "Sivagnanam St. => Sivagnanam St.\n",
      "Jawaharlal Nehru Rd, Balaji Nagar, Ekkatuthangal => Jawaharlal Nehru Rd, Balaji Nagar, Ekkatuthangal\n",
      "Balakrishnapuram 6th street => Balakrishnapuram 6th Street\n",
      "3rd cross street => 3rd cross Street\n",
      "vaithiyanathan street => vaithiyanathan Street\n",
      "kalasathamman koil street => kalasathamman koil Street\n",
      "2nd street => 2nd Street\n",
      "Brahmin street => Brahmin Street\n",
      "kannnapiran street => kannnapiran Street\n",
      "fourth cross street => fourth cross Street\n",
      "Vadhyar Subbraya mudali street => Vadhyar Subbraya mudali Street\n",
      "Bazzar street => Bazzar Street\n",
      "16th Cross St => 16th Cross Street\n",
      "Chakrapani St => Chakrapani Street\n",
      "46th St => 46th Street\n",
      "Abusali St => Abusali Street\n",
      "Venu Reddy St => Venu Reddy Street\n",
      "Jayaram St => Jayaram Street\n",
      "12th St => 12th Street\n",
      "54th St => 54th Street\n",
      "brindavan St => brindavan Street\n",
      "53rd St => 53rd Street\n",
      "Rengabashyam St => Rengabashyam Street\n",
      "Shastri Nagar 1st Cross St => Shastri Nagar 1st Cross Street\n",
      "Hostel Ave => Hostel Avenue\n",
      "14th Ave => 14th Avenue\n",
      "8th Ave => 8th Avenue\n",
      "Indira Nagar 1st Ave => Indira Nagar 1st Avenue\n",
      "Alumni Ave => Alumni Avenue\n",
      "5th Cross Street, Govindsamay Nagar, Madipakkam => 5th Cross Street, Govindsamay Nagar, Madipakkam\n",
      "48th Cross St Valmiki Nagar, Thiruvalluvar Nagar, Thiruvanmiyur => 48th Cross St Valmiki Nagar, Thiruvalluvar Nagar, Thiruvanmiyur\n",
      "Dr.VSI Estate, Thiruvanmiyur => Dr.VSI Estate, Thiruvanmiyur\n",
      "Thamarai Hostel , Anna University => Thamarai Hostel , Anna University\n",
      "Govindasami St, MGR Nagar, Nesapakkam => Govindasami St, MGR Nagar, Nesapakkam\n",
      "Maduvankarai Bridge => Maduvankarai Bridge\n",
      "DHATIRATNAM STREET => DHATIRATNAM STREET\n",
      "MANICKKAM STREET => MANICKKAM STREET\n",
      "J.N.ROAD => J.N.ROAD\n",
      "New Street, Kotturpuram => New Street, Kotturpuram\n",
      "Canal Bank Road, CIT Nagar East => Canal Bank Road, CIT Nagar East\n",
      "11th Cross Street, Shastri Nagar, Adyar => 11th Cross Street, Shastri Nagar, Adyar\n",
      "Gandhi Mandapam, Sardar Patel Road, Adyar => Gandhi Mandapam, Sardar Patel Road, Adyar\n",
      "4th Main Road, Gandhi Nagar, Adyar => 4th Main Road, Gandhi Nagar, Adyar\n",
      "Mahatma Gandhi Rd, Subramaniam Colony, Adyar => Mahatma Gandhi Rd, Subramaniam Colony, Adyar\n",
      "1st Canal Cross Road, Gandhi Nagar, Adyar, Gandhi Nagar, Adyar => 1st Canal Cross Road, Gandhi Nagar, Adyar, Gandhi Nagar, Adyar\n",
      "Indira Nagar 1st Main Rd, Indira Nagar, Adyar => Indira Nagar 1st Main Rd, Indira Nagar, Adyar\n",
      "2nd Avenue, Indira Nagar, Adyar => 2nd Avenue, Indira Nagar, Adyar\n",
      "2nd Avenue, Indira Nagar, Adyar, Chennai - 600, 020, Indira Nagar, Adyar => 2nd Avenue, Indira Nagar, Adyar, Chennai - 600, 020, Indira Nagar, Adyar\n",
      "Brindavan Nagar, Velachery West => Brindavan Nagar, Velachery West\n",
      "East Coast Road, Tiruvanmiyur => East Coast Road, Tiruvanmiyur\n",
      "Muthaiyah Street, Vellala Teynampet => Muthaiyah Street, Vellala Teynampet\n",
      "North Boag Road, T-Nagar => North Boag Road, T-Nagar\n",
      "Turnbulls Road, Nandanam => Turnbulls Road, Nandanam\n",
      "Warren Road, Mylapore => Warren Road, Mylapore\n",
      "Police Quarters (Inspectors, Sub-inspectors), South Sivan Koil Street, Vadapalani => Police Quarters (Inspectors, Sub-inspectors), South Sivan Koil Street, Vadapalani\n",
      "Teynampet police quarters => Teynampet police quarters\n",
      "3rd Avenue, Ashok Nagar (Pudur) => 3rd Avenue, Ashok Nagar (Pudur)\n",
      "Bakthavachalam Street, West Mambalam => Bakthavachalam Street, West Mambalam\n",
      "New Street, West Mambalam => New Street, West Mambalam\n",
      "Nakkeeran St #8, West Mambalam => Nakkeeran St #8, West Mambalam\n",
      "Third Street, Raghavan Colony, Jafferkhanpet => Third Street, Raghavan Colony, Jafferkhanpet\n",
      "6th street,voltas colony => 6th street,voltas colony\n",
      "manapakkam => manapakkam\n",
      "vijayanagar 3rd mainroad => vijayanagar 3rd mainroad\n",
      "6th cross ,29th main, BTM Layout 2nd Stage => 6th cross ,29th main, BTM Layout 2nd Stage\n",
      "Balu St, Kamaraj Nagar, Thiruvanmiyur, Chennai => Balu St, Kamaraj Nagar, Thiruvanmiyur, Chennai\n",
      "Vandikaran St, Kuilkuppam, Velachery, Chennai => Vandikaran St, Kuilkuppam, Velachery, Chennai\n",
      "3rd St, Ragavan Colony, Mettuppalayam, Ashok Nagar, Chennai => 3rd St, Ragavan Colony, Mettuppalayam, Ashok Nagar, Chennai\n",
      "Velachery Road, Velachery, Chennai => Velachery Road, Velachery, Chennai\n",
      "Gandhi Nagar, MGR Nagar, Venkateswara Nagar, Velachery, Chennai => Gandhi Nagar, MGR Nagar, Venkateswara Nagar, Velachery, Chennai\n",
      "Baby Nagar, Velachery, Chennai, Tamil Nadu 600042 => Baby Nagar, Velachery, Chennai, Tamil Nadu 600042\n",
      "4th Main Road, Chokkalingam Nagar, AG'S Colony, Velachery, MGR Nagar, Venkateswara Nagar, Velachery, => 4th Main Road, Chokkalingam Nagar, AG'S Colony, Velachery, MGR Nagar, Venkateswara Nagar, Velachery,\n",
      "Anand Apartments, 50, Dr Muthu Lakshmi Rd, L.I.C Colony, Thiruvanmiyu => Anand Apartments, 50, Dr Muthu Lakshmi Rd, L.I.C Colony, Thiruvanmiyu\n",
      "Kalakshetra Rd, Valluvar Nagar, Thiruvanmiyur, Chennai, Tamil Nadu => Kalakshetra Rd, Valluvar Nagar, Thiruvanmiyur, Chennai, Tamil Nadu\n",
      "4th Main Road, Kasthuriba Nagar, Adyar, Kasturba Nagar, Adyar, => 4th Main Road, Kasthuriba Nagar, Adyar, Kasturba Nagar, Adyar,\n",
      "City Link Road, N.G.O. Colony, Ganesh Nagar, Adambakkam => City Link Road, N.G.O. Colony, Ganesh Nagar, Adambakkam\n",
      "Panagal Park => Panagal Park\n",
      "sardar patel road anna university ceg campus => sardar patel road anna university ceg campus\n",
      "manthagudipatty => manthagudipatty\n",
      "THIRUVALLUVAR SALAI => THIRUVALLUVAR SALAI\n",
      "10th street Ram nagar north extn, Puzhithivakkam => 10th street Ram nagar north extn, Puzhithivakkam\n",
      "10th Street, Ram  Nagar, Puzhuthivakkam => 10th Street, Ram  Nagar, Puzhuthivakkam\n",
      "MANICKKAM ST => MANICKKAM ST\n",
      "Thiruvalluvar Salai, Ramapuram => Thiruvalluvar Salai, Ramapuram\n",
      "St. Thomas Mount => St. Thomas Mount\n",
      "as => as\n",
      "6th Main Road Ram Nagar (N) Extn => 6th Main Road Ram Nagar (N) Extn\n",
      "Nathan Subramaniam Colony => Nathan Subramaniam Colony\n",
      "Arcot Road, Valasaravakkam => Arcot Road, Valasaravakkam\n",
      "sou => sou\n",
      "Umapathy street Extn. => Umapathy street Extn.\n",
      "suyavar veedhi, ,East Jones Road,Periyapet, => suyavar veedhi, ,East Jones Road,Periyapet,\n",
      "East Coast Road SH49 => East Coast Road SH49\n",
      "Maharajapuram Santhanam Salai (Griffith road) => Maharajapuram Santhanam Salai (Griffith road)\n"
     ]
    }
   ],
   "source": [
    "def update_name(name, mapping, regex):\n",
    "    m = regex.search(name)\n",
    "    if m:\n",
    "        street_type = m.group()\n",
    "        if street_type in mapping:\n",
    "            name = re.sub(regex, mapping[street_type], name)\n",
    "\n",
    "    return name\n",
    "\n",
    "for street_type, ways in chennai_street_types.items():\n",
    "    for name in ways:\n",
    "        better_name = update_name(name, mapping, street_type_re)\n",
    "        print (name, \"=>\", better_name)"
   ]
  },
  {
   "cell_type": "markdown",
   "metadata": {},
   "source": [
    "<hr>"
   ]
  },
  {
   "cell_type": "markdown",
   "metadata": {},
   "source": [
    "[<div align=\"center\">Back to top</div>](#top)"
   ]
  },
  {
   "cell_type": "markdown",
   "metadata": {},
   "source": [
    "##### Preparing for MongoDB by converting XML to JSON"
   ]
  },
  {
   "cell_type": "markdown",
   "metadata": {},
   "source": [
    "> In order to transform the data from XML to JSON, we need to follow these rules:\n",
    "+ Process only 2 types of top level tags: \"node\" and \"way\"\n",
    "+ All attributes of \"node\" and \"way\" should be turned into regular key/value pairs, except: attributes in the CREATED array should be added under a key \"created\", attributes for latitude and longitude should be added to a \"pos\" array, for use in geospacial indexing. Make sure the values inside \"pos\" array are floats and not strings. \n",
    "+ If second level tag \"k\" value contains problematic characters, it should be ignored\n",
    "+ If second level tag \"k\" value starts with \"addr:\", it should be added to a dictionary \"address\"\n",
    "+ If second level tag \"k\" value does not start with \"addr:\", but contains \":\", you can process it\n",
    "  same as any other tag.\n",
    "+ If there is a second \":\" that separates the type/direction of a street,\n",
    "  the tag should be ignored\n",
    "\n",
    "> After all the cleaning and data transformation are done, we would use last function process_map and convert the file from XML into JSON format"
   ]
  },
  {
   "cell_type": "code",
   "execution_count": null,
   "metadata": {
    "collapsed": true
   },
   "outputs": [],
   "source": [
    "import re\n",
    "import codecs\n",
    "import json\n",
    "\n",
    "lower = re.compile(r'^([a-z]|_)*$')\n",
    "lower_colon = re.compile(r'^([a-z]|_)*:([a-z]|_)*$')\n",
    "problemchars = re.compile(r'[=\\+/&<>;\\'\"\\?%#$@\\,\\. \\t\\r\\n]')\n",
    "address_regex = re.compile(r'^addr\\:')\n",
    "street_regex = re.compile(r'^street')\n",
    "\n",
    "CREATED = [ \"version\", \"changeset\", \"timestamp\", \"user\", \"uid\"]\n",
    "\n",
    "\n",
    "def shape_element(element):\n",
    "    node = {}\n",
    "    if element.tag == \"node\" or element.tag == \"way\" :\n",
    "        # YOUR CODE HERE\n",
    "        node['type'] = element.tag\n",
    "        # initialize empty address\n",
    "        address = {}\n",
    "        # parsing through attributes\n",
    "        for a in element.attrib:\n",
    "            if a in CREATED:\n",
    "                if 'created' not in node:\n",
    "                    node['created'] = {}\n",
    "                node['created'][a] = element.get(a)\n",
    "            elif a in ['lat', 'lon']:\n",
    "                continue\n",
    "            else:\n",
    "                node[a] = element.get(a)\n",
    "        # populate position\n",
    "        if 'lat' in element.attrib and 'lon' in element.attrib:\n",
    "            node['pos'] = [float(element.get('lat')), float(element.get('lon'))]\n",
    "\n",
    "        # parse second-level tags for nodes\n",
    "        for e in element:\n",
    "            # parse second-level tags for ways and populate `node_refs`\n",
    "            if e.tag == 'nd':\n",
    "                if 'node_refs' not in node:\n",
    "                    node['node_refs'] = []\n",
    "                if 'ref' in e.attrib:\n",
    "                    node['node_refs'].append(e.get('ref'))\n",
    "\n",
    "            # throw out not-tag elements and elements without `k` or `v`\n",
    "            if e.tag != 'tag' or 'k' not in e.attrib or 'v' not in e.attrib:\n",
    "                continue\n",
    "            key = e.get('k')\n",
    "            val = e.get('v')\n",
    "\n",
    "            # skip problematic characters\n",
    "            if problemchars.search(key):\n",
    "                continue\n",
    "\n",
    "            # parse address k-v pairs\n",
    "            elif address_regex.search(key):\n",
    "                key = key.replace('addr:', '')\n",
    "                address[key] = val\n",
    "\n",
    "            # catch-all\n",
    "            else:\n",
    "                node[key] = val\n",
    "        # compile address\n",
    "        if len(address) > 0:\n",
    "            node['address'] = {}\n",
    "            street_full = None\n",
    "            street_dict = {}\n",
    "            street_format = ['prefix', 'name', 'type']\n",
    "            # parse through address objects\n",
    "            for key in address:\n",
    "                val = address[key]\n",
    "                if street_regex.search(key):\n",
    "                    if key == 'street':\n",
    "                        street_full = val\n",
    "                    elif 'street:' in key:\n",
    "                        street_dict[key.replace('street:', '')] = val\n",
    "                else:\n",
    "                    node['address'][key] = val\n",
    "            # assign street_full or fallback to compile street dict\n",
    "            if street_full:\n",
    "                node['address']['street'] = street_full\n",
    "            elif len(street_dict) > 0:\n",
    "                node['address']['street'] = ' '.join([street_dict[key] for key in street_format])\n",
    "        return node\n",
    "    else:\n",
    "        return None\n",
    "\n",
    "\n",
    "def process_map(file_in, pretty = False):\n",
    "    file_out = \"{0}.json\".format(file_in)\n",
    "    data = []\n",
    "    with codecs.open(file_out, \"w\") as fo:\n",
    "        for _, element in ET.iterparse(file_in):\n",
    "            el = shape_element(element)\n",
    "            if el:\n",
    "                data.append(el)\n",
    "                if pretty:\n",
    "                    fo.write(json.dumps(el, indent=2)+\"\\n\")\n",
    "                else:\n",
    "                    fo.write(json.dumps(el) + \"\\n\")\n",
    "    return data\n",
    "process_map(chennai_data)"
   ]
  },
  {
   "cell_type": "markdown",
   "metadata": {},
   "source": [
    "<hr>"
   ]
  },
  {
   "cell_type": "markdown",
   "metadata": {},
   "source": [
    "[<div align=\"center\">Back to top</div>](#top)"
   ]
  },
  {
   "cell_type": "markdown",
   "metadata": {},
   "source": [
    "<h2><a name=\"data_overview\"></a> **3. Data Analysis with MongoDB**</h2>"
   ]
  },
  {
   "cell_type": "code",
   "execution_count": 10,
   "metadata": {},
   "outputs": [
    {
     "name": "stdout",
     "output_type": "stream",
     "text": [
      "{'_id': ObjectId('59d136d0c8d16b047ca61442'), 'type': 'node', 'id': '249797854', 'created': {'version': '9', 'timestamp': '2015-08-03T05:33:54Z', 'changeset': '33060572', 'uid': '2897465', 'user': 'maheshrkm'}, 'pos': [13.0353488, 80.2494237]}\n",
      "563\n",
      "Number of nodes: 424009\n",
      "Number of ways: 96470\n"
     ]
    }
   ],
   "source": [
    "from pymongo import MongoClient\n",
    "db_name = 'udacity'\n",
    "client = MongoClient('localhost', 27017)\n",
    "db = client['udacity']\n",
    "collection = db['output']\n",
    "print(collection.find_one())\n",
    "\n",
    "print(len(collection.distinct('created.user')))\n",
    "\n",
    "print (\"Number of nodes:\",collection.find({'type':'node'}).count())\n",
    "print (\"Number of ways:\",collection.find({'type':'way'}).count())\n"
   ]
  },
  {
   "cell_type": "code",
   "execution_count": 11,
   "metadata": {
    "collapsed": true
   },
   "outputs": [],
   "source": [
    "result = collection.aggregate( [\n",
    "                                        { \"$group\" : {\"_id\" : \"$created.user\",\n",
    "                                        \"count\" : { \"$sum\" : 1} } },\n",
    "                                        { \"$sort\" : {\"count\" : -1} },\n",
    "                                        { \"$limit\" : 50 } ] )\n"
   ]
  },
  {
   "cell_type": "code",
   "execution_count": 12,
   "metadata": {
    "scrolled": true
   },
   "outputs": [
    {
     "name": "stdout",
     "output_type": "stream",
     "text": [
      "[{'_id': 'maheshrkm', 'count': 74658}, {'_id': 'praveeng', 'count': 47532}, {'_id': 'rajureddyvudem', 'count': 36385}, {'_id': 'vamshikrishna', 'count': 35910}, {'_id': 'jasvinderkaur', 'count': 31714}, {'_id': 'Rahuldhanraj', 'count': 24394}, {'_id': 'PlaneMad', 'count': 20992}, {'_id': 'harishvarma', 'count': 19382}, {'_id': 'venkatkotha', 'count': 19103}, {'_id': 'masthanvali', 'count': 17541}, {'_id': 'saikumard', 'count': 15438}, {'_id': 'anushap', 'count': 14983}, {'_id': 'shivajim', 'count': 14320}, {'_id': 'ravikumar1', 'count': 14255}, {'_id': 'vamshiN', 'count': 13179}, {'_id': 'sramesh', 'count': 12714}, {'_id': 'vraju', 'count': 10327}, {'_id': 'shiva05', 'count': 9236}, {'_id': 'premkumar', 'count': 8971}, {'_id': 'venkatesh10', 'count': 8881}, {'_id': 'Naresh08', 'count': 7872}, {'_id': 'anthony1', 'count': 7176}, {'_id': 'harisha', 'count': 6281}, {'_id': 'uday01', 'count': 5273}, {'_id': 'pavanvijjapu', 'count': 5132}, {'_id': 'subhashini', 'count': 4305}, {'_id': 'thrinath', 'count': 3632}, {'_id': 'KIngaJOnes', 'count': 3272}, {'_id': 'sk_trav', 'count': 2683}, {'_id': 'Narsimulu', 'count': 2255}, {'_id': 'shashi2', 'count': 1918}, {'_id': 'sheik farid', 'count': 1874}, {'_id': 'Arunmozhi', 'count': 1576}, {'_id': 'ahmasmi', 'count': 956}, {'_id': 'Biju', 'count': 934}, {'_id': 'venugopal009', 'count': 912}, {'_id': 'sampath reddy', 'count': 897}, {'_id': 'Ajay Pratap Singh', 'count': 724}, {'_id': 'kushwanth', 'count': 631}, {'_id': 'gandharva95', 'count': 620}, {'_id': 'whizzy', 'count': 572}, {'_id': 'niranjana', 'count': 498}, {'_id': 'SrikanthLogic', 'count': 474}, {'_id': 'RonnieLand', 'count': 455}, {'_id': 'Ganeshk', 'count': 454}, {'_id': 'Triangle37', 'count': 360}, {'_id': 'chdr', 'count': 350}, {'_id': 'Aswn', 'count': 284}, {'_id': 'eternaltyro', 'count': 273}, {'_id': 'Nagesh_Blr', 'count': 238}]\n"
     ]
    }
   ],
   "source": [
    "\n",
    "print(list(result))"
   ]
  },
  {
   "cell_type": "markdown",
   "metadata": {},
   "source": [
    "#### Top Cusine Types in Chennai"
   ]
  },
  {
   "cell_type": "code",
   "execution_count": 16,
   "metadata": {},
   "outputs": [
    {
     "name": "stdout",
     "output_type": "stream",
     "text": [
      "[{'Food': None, 'Count': 109}, {'Food': 'regional', 'Count': 20}, {'Food': 'indian', 'Count': 15}, {'Food': 'chinese', 'Count': 5}, {'Food': 'vegetarian', 'Count': 4}, {'Food': 'north_indian', 'Count': 3}]\n"
     ]
    }
   ],
   "source": [
    "# Top Cusine Types\n",
    "cuisine = collection.aggregate([{\"$match\":{\"amenity\":{\"$exists\":1},\n",
    "                                 \"amenity\":\"restaurant\",}},\n",
    "                      {\"$group\":{\"_id\":{\"Food\":\"$cuisine\"},\n",
    "                                 \"count\":{\"$sum\":1}}},\n",
    "                      {\"$project\":{\"_id\":0,\n",
    "                                  \"Food\":\"$_id.Food\",\n",
    "                                  \"Count\":\"$count\"}},\n",
    "                      {\"$sort\":{\"Count\":-1}},\n",
    "                      {\"$limit\":6}])\n",
    "print(list(cuisine))\n"
   ]
  },
  {
   "cell_type": "markdown",
   "metadata": {},
   "source": [
    "#### Top Buildings Types in Chennai"
   ]
  },
  {
   "cell_type": "code",
   "execution_count": 17,
   "metadata": {},
   "outputs": [
    {
     "name": "stdout",
     "output_type": "stream",
     "text": [
      "[{'_id': 'yes', 'count': 85379}, {'_id': 'apartments', 'count': 104}, {'_id': 'commercial', 'count': 44}, {'_id': 'university', 'count': 41}, {'_id': 'house', 'count': 29}, {'_id': 'residential', 'count': 25}, {'_id': 'school', 'count': 20}, {'_id': 'train_station', 'count': 13}, {'_id': 'temple', 'count': 11}, {'_id': 'office', 'count': 11}, {'_id': 'concourse', 'count': 8}, {'_id': 'industrial', 'count': 7}, {'_id': 'church', 'count': 5}, {'_id': 'retail', 'count': 4}, {'_id': 'hospital', 'count': 3}, {'_id': 'no', 'count': 2}, {'_id': 'mosque', 'count': 2}, {'_id': 'hotel', 'count': 2}, {'_id': 'mall', 'count': 1}, {'_id': 'stable', 'count': 1}, {'_id': 'place_of_worship', 'count': 1}, {'_id': 'greenhouse', 'count': 1}, {'_id': 'supermarket', 'count': 1}, {'_id': 'public', 'count': 1}, {'_id': 'hut', 'count': 1}, {'_id': 'roof', 'count': 1}]\n"
     ]
    }
   ],
   "source": [
    "building = collection.aggregate([\n",
    "       {'$match': {'building': { '$exists': 1}}},\n",
    "        {'$group': {'_id': '$building',\n",
    "                    'count': {'$sum': 1}}},\n",
    "        {'$sort': {'count': -1}},\n",
    "        {'$limit': 50}])\n",
    "print(list(building))\n"
   ]
  },
  {
   "cell_type": "markdown",
   "metadata": {},
   "source": [
    "#### Train Stations in Chennai"
   ]
  },
  {
   "cell_type": "code",
   "execution_count": 18,
   "metadata": {},
   "outputs": [
    {
     "name": "stdout",
     "output_type": "stream",
     "text": [
      "[{'_id': 'MRTS', 'count': 9}, {'_id': 'Blue Line', 'count': 5}, {'_id': 'Green Line', 'count': 3}]\n"
     ]
    }
   ],
   "source": [
    "train = collection.aggregate([\n",
    "       {'$match': {'network': { '$exists': 1}}},\n",
    "        {'$group': {'_id': '$network',\n",
    "                    'count': {'$sum': 1}}},\n",
    "        {'$sort': {'count': -1}},\n",
    "        {'$limit': 10}])\n",
    "print(list(train))\n",
    "\n"
   ]
  },
  {
   "cell_type": "markdown",
   "metadata": {},
   "source": [
    "#### Sample visualization using Matplotlib for the Metro Lines\n"
   ]
  },
  {
   "cell_type": "code",
   "execution_count": 29,
   "metadata": {},
   "outputs": [
    {
     "data": {
      "image/png": "[encoded data removed]",
      "text/plain": [
       "<matplotlib.figure.Figure at 0x1833c4fa5f8>"
      ]
     },
     "metadata": {},
     "output_type": "display_data"
    }
   ],
   "source": [
    "import matplotlib.pyplot as plt; plt.rcdefaults()\n",
    "import numpy as np\n",
    "import matplotlib.pyplot as plt\n",
    " \n",
    "objects = ('MRTS', 'Blue Line', 'Green Line')\n",
    "y_pos = np.arange(len(objects))\n",
    "performance = [9,5,3]\n",
    " \n",
    "plt.bar(y_pos, performance, align='center', alpha=0.5)\n",
    "plt.xticks(y_pos, objects)\n",
    "plt.ylabel('Train Lines')\n",
    "plt.title('Chennai Metro')\n",
    " \n",
    "plt.show()"
   ]
  },
  {
   "cell_type": "markdown",
   "metadata": {},
   "source": [
    "[<div align=\"center\">Back to top</div>](#top)"
   ]
  },
  {
   "cell_type": "markdown",
   "metadata": {},
   "source": [
    "<h2><a name=\"conclusion\"></a> **4. Conclusion**</h2>"
   ]
  },
  {
   "cell_type": "markdown",
   "metadata": {},
   "source": [
    "> **_Ideas to improve data quality of OSM:_**\n",
    "\n",
    "> During the entire process we found data quality to be utmost issue with OSM files. Given these are user generated content it would be nice if we had some checks and balances to ensure consitency of the data. The size of osm files also posed some issues and its a challange to parse and decode large files. A Carthographer inputs to review the OSM files after user generated content will be of great use. \n",
    "\n",
    "> **_Potential cost of the implementation:_**\n",
    "\n",
    "> The potential cost of implementation is the maintaintance cost involved in keeping data consistency. Most of the user generated content online change very often and keeping them current for the relevent data analysis is a challange."
   ]
  }
 ],
 "metadata": {
  "kernelspec": {
   "display_name": "Python 3",
   "language": "python",
   "name": "python3"
  },
  "language_info": {
   "codemirror_mode": {
    "name": "ipython",
    "version": 3
   },
   "file_extension": ".py",
   "mimetype": "text/x-python",
   "name": "python",
   "nbconvert_exporter": "python",
   "pygments_lexer": "ipython3",
   "version": "3.6.1"
  }
 },
 "nbformat": 4,
 "nbformat_minor": 1
}
